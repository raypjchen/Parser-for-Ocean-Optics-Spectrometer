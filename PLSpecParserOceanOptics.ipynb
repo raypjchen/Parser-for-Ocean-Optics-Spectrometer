{
 "cells": [
  {
   "cell_type": "code",
   "execution_count": null,
   "metadata": {},
   "outputs": [],
   "source": [
    "from bokeh.io import output_notebook\n",
    "output_notebook()"
   ]
  },
  {
   "cell_type": "code",
   "execution_count": null,
   "metadata": {
    "scrolled": false
   },
   "outputs": [],
   "source": [
    "%run modules/exppl.py\n",
    "\n",
    "#######################\n",
    "#   Single Data Set   #\n",
    "#######################\n",
    "\n",
    "# directory path of background spectra\n",
    "bg_path = 'example/background/'\n",
    "# directory path of sample's PL spectra\n",
    "pl_path = 'example/single data set/'\n",
    "# wavelength range of PL spectrum [minimum, maximum]\n",
    "WL_range = [ 500, 700 ]\n",
    "# smooth window\n",
    "smo_win = 10\n",
    "# wavelength range of main peak and shoulder [main_min, main_max, shoulder_min, shoulder_max]\n",
    "aHR_range = [550, 570, 590, 610]\n",
    "WL_SSC_split = 560 # wavelength of main peak\n",
    "\n",
    "# execution\n",
    "exp_pl = ExpPL( WL_range, bg_path = bg_path, smo_win = 10 )\n",
    "x = exp_pl.single_folder( pl_path )"
   ]
  },
  {
   "cell_type": "code",
   "execution_count": null,
   "metadata": {
    "scrolled": false
   },
   "outputs": [],
   "source": [
    "%run modules/exppl.py\n",
    "\n",
    "#########################\n",
    "#   Multiple Data Set   #\n",
    "#########################\n",
    "\n",
    "# directory path of background spectra\n",
    "bg_path = 'example/background/'\n",
    "# directory path of sample's PL spectra\n",
    "pl_path = 'example/multiple data sets/'\n",
    "# wavelength range of PL spectrum [minimum, maximum]\n",
    "WL_range = [ 500, 700 ]\n",
    "# smooth window\n",
    "smo_win = 10\n",
    "# wavelength range of main peak and shoulder [main_min, main_max, shoulder_min, shoulder_max]\n",
    "WL_SSC_split = 560 # wavelength of main peak\n",
    "aHR_range = [550, 570, 590, 610]\n",
    "\n",
    "# execution\n",
    "exp_pl = ExpPL( WL_range, bg_path = bg_path, smo_win = smo_win, WL_SSC_split = WL_SSC_split, aHR_range = aHR_range )\n",
    "x = exp_pl.mutiple_folder( pl_path )"
   ]
  }
 ],
 "metadata": {
  "anaconda-cloud": {},
  "kernelspec": {
   "display_name": "Python 3",
   "language": "python",
   "name": "python3"
  },
  "language_info": {
   "codemirror_mode": {
    "name": "ipython",
    "version": 3
   },
   "file_extension": ".py",
   "mimetype": "text/x-python",
   "name": "python",
   "nbconvert_exporter": "python",
   "pygments_lexer": "ipython3",
   "version": "3.7.1"
  }
 },
 "nbformat": 4,
 "nbformat_minor": 1
}
